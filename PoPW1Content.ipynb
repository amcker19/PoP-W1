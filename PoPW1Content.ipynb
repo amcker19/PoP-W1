{
 "cells": [
  {
   "cell_type": "code",
   "execution_count": 1,
   "id": "5301c0e5-7c8a-4369-a07a-97a03fb9f91f",
   "metadata": {},
   "outputs": [
    {
     "name": "stdout",
     "output_type": "stream",
     "text": [
      "hello Asha\n"
     ]
    }
   ],
   "source": [
    "print('hello Asha')"
   ]
  },
  {
   "cell_type": "code",
   "execution_count": null,
   "id": "638ecdcb-e7a3-4eab-b60e-21a3ceaf9d85",
   "metadata": {},
   "outputs": [],
   "source": []
  },
  {
   "cell_type": "code",
   "execution_count": null,
   "id": "1cf3593f-0f0d-4c04-bd2d-5bc1d3e8a965",
   "metadata": {},
   "outputs": [],
   "source": []
  }
 ],
 "metadata": {
  "kernelspec": {
   "display_name": "Python [conda env:base]",
   "language": "python",
   "name": "conda-base-py"
  },
  "language_info": {
   "codemirror_mode": {
    "name": "ipython",
    "version": 3
   },
   "file_extension": ".py",
   "mimetype": "text/x-python",
   "name": "python",
   "nbconvert_exporter": "python",
   "pygments_lexer": "ipython3",
   "version": "3.13.5"
  }
 },
 "nbformat": 4,
 "nbformat_minor": 5
}
